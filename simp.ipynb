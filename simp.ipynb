{
  "nbformat": 4,
  "nbformat_minor": 0,
  "metadata": {
    "colab": {
      "provenance": [],
      "collapsed_sections": [
        "H0PBdwG87UEO",
        "dHfp3M5w_Bc_",
        "6NsDytGzA1ZD",
        "t-5IL5FjB2LB",
        "5keS5tP3CUGZ",
        "lTH2ByozDOHp"
      ]
    },
    "kernelspec": {
      "name": "python3",
      "display_name": "Python 3"
    },
    "language_info": {
      "name": "python"
    }
  },
  "cells": [
    {
      "cell_type": "markdown",
      "source": [
        "# ***Exp: 1***"
      ],
      "metadata": {
        "id": "H0PBdwG87UEO"
      }
    },
    {
      "cell_type": "code",
      "execution_count": null,
      "metadata": {
        "colab": {
          "base_uri": "https://localhost:8080/"
        },
        "id": "XJ5HoWR1EqPt",
        "outputId": "0ea91caf-efd8-4e48-a205-60afbab7c8d6"
      },
      "outputs": [
        {
          "output_type": "stream",
          "name": "stdout",
          "text": [
            "Erode Kanyakumari Chennai Thiruvananthapuram Coiambatore\n",
            "Enter neighbors for Erode: Coiambatore\n",
            "Enter neighbors for Kanyakumari: Thiruvananthapuram\n",
            "Enter neighbors for Chennai: \n",
            "Enter neighbors for Thiruvananthapuram: Kanyakumari\n",
            "Enter neighbors for Coiambatore: Erode\n",
            "Solution found:\n",
            "Erode: red\n",
            "Kanyakumari: red\n",
            "Chennai: red\n",
            "Thiruvananthapuram: green\n",
            "Coiambatore: green\n"
          ]
        }
      ],
      "source": [
        "from typing import Dict, List, Set\n",
        "\n",
        "def solve_map_coloring(variables: List[str], domains: List[str], constraints: Dict[str, List[str]]) -> Dict[str, str]:\n",
        "  assignment: Dict[str, str] = {}\n",
        "\n",
        "  def is_consistent(variable: str, color: str) -> bool:\n",
        "    for neighbor in constraints.get(variable, []):\n",
        "      if neighbor in assignment and assignment[neighbor] == color:\n",
        "        return False\n",
        "    return True\n",
        "\n",
        "  def backtrack() -> Dict[str, str]:\n",
        "    if all(variable in assignment for variable in variables):\n",
        "      return assignment\n",
        "\n",
        "    unassigned_variable = next((variable for variable in variables if variable not in assignment), None)\n",
        "    if unassigned_variable is None:\n",
        "      return assignment\n",
        "\n",
        "    for color in domains:\n",
        "      if is_consistent(unassigned_variable, color):\n",
        "        assignment[unassigned_variable] = color\n",
        "        result = backtrack()\n",
        "        if result is not None:\n",
        "          return result\n",
        "        del assignment[unassigned_variable]\n",
        "\n",
        "    return None\n",
        "\n",
        "  return backtrack()\n",
        "\n",
        "\n",
        "if __name__ == \"__main__\":\n",
        "  variables = list(map(str, input().split()))\n",
        "  domains = [\"red\", \"green\", \"blue\"]\n",
        "  constraints = {}\n",
        "\n",
        "  for variable in variables:\n",
        "    print(f\"Enter neighbors for {variable}:\", end=\" \")\n",
        "    neighbors = input().split()\n",
        "    constraints[variable] = neighbors\n",
        "\n",
        "  solution = solve_map_coloring(variables, domains, constraints)\n",
        "\n",
        "  if solution:\n",
        "    print(\"Solution found:\")\n",
        "    for variable, color in solution.items():\n",
        "      print(f\"{variable}: {color}\")\n",
        "  else:\n",
        "    print(\"No solution found.\")\n",
        "\n"
      ]
    },
    {
      "cell_type": "markdown",
      "source": [
        "# ***Exp: 2***"
      ],
      "metadata": {
        "id": "dHfp3M5w_Bc_"
      }
    },
    {
      "cell_type": "code",
      "source": [
        "# !pip install python-constraint\n",
        "from constraint import Problem\n",
        "\n",
        "def is_safe(farmer, wolf, goat, cabbage):\n",
        "    if goat == wolf and farmer != goat:\n",
        "        return False\n",
        "    if goat == cabbage and farmer != goat:\n",
        "        return False\n",
        "    return True\n",
        "\n",
        "def farmer_wolf_goat_cabbage_puzzle():\n",
        "    problem = Problem()\n",
        "\n",
        "    problem.addVariable(\"farmer\", [0, 1])\n",
        "    problem.addVariable(\"wolf\", [0, 1])\n",
        "    problem.addVariable(\"goat\", [0, 1])\n",
        "    problem.addVariable(\"cabbage\", [0, 1])\n",
        "\n",
        "\n",
        "    problem.addConstraint(is_safe, [\"farmer\", \"wolf\", \"goat\", \"cabbage\"])\n",
        "\n",
        "    solutions = problem.getSolutions()\n",
        "\n",
        "\n",
        "    count = 0\n",
        "    if solutions:\n",
        "        for solution in solutions:\n",
        "            print(f\"Farmer: {'Right' if solution['farmer'] == 1 else 'Left'}, \"\n",
        "                  f\"Wolf: {'Right' if solution['wolf'] == 1 else 'Left'}, \"\n",
        "                  f\"Goat: {'Right' if solution['goat'] == 1 else 'Left'}, \"\n",
        "                  f\"Cabbage: {'Right' if solution['cabbage'] == 1 else 'Left'}\")\n",
        "            count += 1\n",
        "            if count == 5:\n",
        "                break\n",
        "    else:\n",
        "        print(\"No solution exists\")\n",
        "\n",
        "farmer_wolf_goat_cabbage_puzzle()"
      ],
      "metadata": {
        "colab": {
          "base_uri": "https://localhost:8080/"
        },
        "id": "oaomN3zj-4uz",
        "outputId": "61d2af06-9140-410c-b825-06bf3f0cc1ea"
      },
      "execution_count": null,
      "outputs": [
        {
          "output_type": "stream",
          "name": "stdout",
          "text": [
            "Farmer: Right, Wolf: Right, Goat: Right, Cabbage: Right\n",
            "Farmer: Right, Wolf: Left, Goat: Right, Cabbage: Right\n",
            "Farmer: Right, Wolf: Right, Goat: Left, Cabbage: Right\n",
            "Farmer: Left, Wolf: Left, Goat: Left, Cabbage: Right\n",
            "Farmer: Left, Wolf: Right, Goat: Left, Cabbage: Right\n"
          ]
        }
      ]
    },
    {
      "cell_type": "markdown",
      "source": [
        "# ***Exp: 3***"
      ],
      "metadata": {
        "id": "6NsDytGzA1ZD"
      }
    },
    {
      "cell_type": "code",
      "source": [
        "import random\n",
        "import math\n",
        "\n",
        "GRID_SIZE = 9\n",
        "SUBGRID_SIZE = 3\n",
        "MAX_VAL = 9\n",
        "\n",
        "def print_grid(grid):\n",
        "    for row in grid:\n",
        "        print(\" \".join(str(num) if num != 0 else '.' for num in row))\n",
        "    print()\n",
        "\n",
        "def generate_random_grid():\n",
        "    grid = [[0] * GRID_SIZE for _ in range(GRID_SIZE)]\n",
        "\n",
        "    for row in range(GRID_SIZE):\n",
        "        values = list(range(1, MAX_VAL + 1))\n",
        "        random.shuffle(values)\n",
        "        grid[row] = values\n",
        "\n",
        "    return grid\n",
        "\n",
        "def calculate_energy(grid):\n",
        "    conflicts = 0\n",
        "    for row in range(GRID_SIZE):\n",
        "        row_numbers = [grid[row][col] for col in range(GRID_SIZE) if grid[row][col] != 0]\n",
        "        conflicts += len(row_numbers) - len(set(row_numbers))\n",
        "\n",
        "    for col in range(GRID_SIZE):\n",
        "        col_numbers = [grid[row][col] for row in range(GRID_SIZE) if grid[row][col] != 0]\n",
        "        conflicts += len(col_numbers) - len(set(col_numbers))\n",
        "\n",
        "    for box_row in range(0, GRID_SIZE, SUBGRID_SIZE):\n",
        "        for box_col in range(0, GRID_SIZE, SUBGRID_SIZE):\n",
        "            subgrid_numbers = []\n",
        "            for i in range(SUBGRID_SIZE):\n",
        "                for j in range(SUBGRID_SIZE):\n",
        "                    num = grid[box_row + i][box_col + j]\n",
        "                    if num != 0:\n",
        "                        subgrid_numbers.append(num)\n",
        "            conflicts += len(subgrid_numbers) - len(set(subgrid_numbers))\n",
        "\n",
        "    return conflicts\n",
        "\n",
        "def swap_random_cells(grid):\n",
        "    row1, col1 = random.randint(0, GRID_SIZE - 1), random.randint(0, GRID_SIZE - 1)\n",
        "    row2, col2 = random.randint(0, GRID_SIZE - 1), random.randint(0, GRID_SIZE - 1)\n",
        "\n",
        "    grid[row1][col1], grid[row2][col2] = grid[row2][col2], grid[row1][col1]\n",
        "\n",
        "def simulated_annealing():\n",
        "    grid = generate_random_grid()\n",
        "    current_energy = calculate_energy(grid)\n",
        "    temperature = 1000\n",
        "    cooling_rate = 0.995\n",
        "    min_temperature = 0.1\n",
        "\n",
        "    print(\"Initial Grid:\")\n",
        "    print_grid(grid)\n",
        "\n",
        "    while current_energy > 0 and temperature > min_temperature:\n",
        "        new_grid = [row[:] for row in grid]\n",
        "        swap_random_cells(new_grid)\n",
        "\n",
        "        new_energy = calculate_energy(new_grid)\n",
        "\n",
        "        if new_energy < current_energy:\n",
        "            grid = new_grid\n",
        "            current_energy = new_energy\n",
        "        else:\n",
        "            probability = math.exp((current_energy - new_energy) / temperature)\n",
        "            if random.random() < probability:\n",
        "                grid = new_grid\n",
        "                current_energy = new_energy\n",
        "\n",
        "        temperature *= cooling_rate\n",
        "\n",
        "    return grid\n",
        "\n",
        "if __name__ == \"__main__\":\n",
        "    solution = simulated_annealing()\n",
        "    print(\"Valid Sudoku:\")\n",
        "    print_grid(solution)\n"
      ],
      "metadata": {
        "colab": {
          "base_uri": "https://localhost:8080/"
        },
        "id": "bIzrRBq9A0du",
        "outputId": "7c2845dd-3264-4992-9075-456b1051dbd3"
      },
      "execution_count": null,
      "outputs": [
        {
          "output_type": "stream",
          "name": "stdout",
          "text": [
            "Initial Grid:\n",
            "2 4 7 5 1 3 6 9 8\n",
            "6 4 5 3 9 1 8 2 7\n",
            "8 4 9 5 3 7 1 2 6\n",
            "6 1 2 8 3 4 9 7 5\n",
            "2 5 6 3 9 1 8 4 7\n",
            "5 1 9 3 6 2 8 4 7\n",
            "9 4 6 2 1 7 8 5 3\n",
            "1 4 3 5 8 7 2 6 9\n",
            "1 8 6 7 3 2 5 9 4\n",
            "\n",
            "Valid Sudoku:\n",
            "9 6 3 4 8 5 9 1 2\n",
            "1 5 2 4 3 6 8 7 4\n",
            "7 4 5 2 1 9 9 6 5\n",
            "5 7 6 8 9 3 7 2 1\n",
            "8 3 1 3 6 2 4 5 8\n",
            "2 8 9 7 1 4 3 9 6\n",
            "8 9 6 5 2 4 1 3 7\n",
            "5 1 7 8 7 3 2 4 9\n",
            "4 2 7 6 1 5 6 8 3\n",
            "\n"
          ]
        }
      ]
    },
    {
      "cell_type": "markdown",
      "source": [
        "# ***Exp: 4***"
      ],
      "metadata": {
        "id": "t-5IL5FjB2LB"
      }
    },
    {
      "cell_type": "code",
      "source": [
        "from google.colab import userdata\n",
        "from bs4 import BeautifulSoup\n",
        "import requests\n",
        "\n",
        "api_key = userdata.get('GOOGLE_MAP')\n",
        "\n",
        "def get_route(origin, destination, api_key):\n",
        "    try:\n",
        "        url = \"https://maps.googleapis.com/maps/api/directions/json\"\n",
        "\n",
        "        params = {\n",
        "            'origin': origin,\n",
        "            'destination': destination,\n",
        "            'key': api_key,\n",
        "            'traffic_model': 'best_guess',\n",
        "            'departure_time': 'now'\n",
        "        }\n",
        "\n",
        "        response = requests.get(url, params=params)\n",
        "        data = response.json()\n",
        "\n",
        "        if data['status'] == 'OK':\n",
        "            steps = data['routes'][0]['legs'][0]['steps']\n",
        "\n",
        "            print(f\"Route from {origin} to {destination}:\")\n",
        "            for i, step in enumerate(steps):\n",
        "                soup = BeautifulSoup(step['html_instructions'], 'html.parser')\n",
        "                clean_instruction = soup.get_text()\n",
        "\n",
        "                distance = step['distance']['text']\n",
        "                duration = step['duration']['text']\n",
        "                print(f\"Step {i + 1}: {clean_instruction} ({distance}, {duration})\")\n",
        "        else:\n",
        "            print(f\"Error: {data['status']}\")\n",
        "\n",
        "    except Exception as e:\n",
        "        print(f\"An error occurred: {str(e)}\")\n",
        "\n",
        "origin = \"Erode Bus Stand\"\n",
        "destination = \"Gobichettipalayam Bus Stand\"\n",
        "\n",
        "get_route(origin, destination, api_key)"
      ],
      "metadata": {
        "colab": {
          "base_uri": "https://localhost:8080/"
        },
        "id": "Vsf2WmlHB7IB",
        "outputId": "8424e52d-edc0-4924-d633-2ecb7167d338"
      },
      "execution_count": null,
      "outputs": [
        {
          "output_type": "stream",
          "name": "stdout",
          "text": [
            "Route from Erode Bus Stand to Gobichettipalayam Bus Stand:\n",
            "Step 1: Head north on Mettur Rd toward Municipal Colony Main Rd/Periya Valasu Naal RdPass by the pharmacy (on the left) (0.8 km, 2 mins)\n",
            "Step 2: At the roundabout, take the 1st exit onto Sathy RdPass by Elite Furniture (on the left) (9.8 km, 16 mins)\n",
            "Step 3: Continue straight to stay on Sathy RdPass by KinG'S Fried cafe (on the left) (5.7 km, 5 mins)\n",
            "Step 4: Continue straight to stay on Sathy RdPass by செட்டிகரடு பேருந்து நிறுத்தம் (on the right in 800m) (5.1 km, 5 mins)\n",
            "Step 5: Slight right at Kavindapadi Naal Road | Kavindapadi Four Roads onto Sathy Rd/SH 15Continue to follow SH 15Pass by MuraliDharan (on the right) (13.8 km, 16 mins)\n",
            "Step 6: Turn left at Sathya Agencies, Gobichettipalayam - Electronics and Home Appliances Store - Buy Latest Mobiles, AC, LED TV etc. onto Kuthirai Vandi Theru/Sivashanmugam StPass by கோபி கூட்டுறவு நகர வங்கி (on the left)Destination will be on the right (41 m, 1 min)\n"
          ]
        }
      ]
    },
    {
      "cell_type": "markdown",
      "source": [
        "# ***Exp: 5***"
      ],
      "metadata": {
        "id": "5keS5tP3CUGZ"
      }
    },
    {
      "cell_type": "code",
      "source": [
        "def bayes_theorem(P_D, P_T_given_D, P_T_given_not_D):\n",
        "    P_not_D = 1 - P_D0\n",
        "\n",
        "    P_T = (P_T_given_D * P_D) + (P_T_given_not_D * P_not_D)\n",
        "\n",
        "    P_D_given_T = (P_T_given_D * P_D) / P_T\n",
        "\n",
        "    return P_D_given_T\n",
        "\n",
        "\n",
        "try:\n",
        "    disease_name = input(\"Enter the name of the disease: \")\n",
        "\n",
        "    P_D = float(input(f\"Enter the prior probability of having {disease_name} (as a decimal, e.g., 0.01 for 1%): \"))\n",
        "    P_T_given_D = float(input(f\"Enter the sensitivity of the test for {disease_name} (as a decimal, e.g., 0.90 for 90%): \"))\n",
        "    P_T_given_not_D = float(input(f\"Enter the false positive rate of the test for {disease_name} (as a decimal, e.g., 0.05 for 5%): \"))\n",
        "\n",
        "    if not (0 <= P_D <= 1 and 0 <= P_T_given_D <= 1 and 0 <= P_T_given_not_D <= 1):\n",
        "        raise ValueError(\"All probabilities should be between 0 and 1.\")\n",
        "\n",
        "    posterior_probability = bayes_theorem(P_D, P_T_given_D, P_T_given_not_D)\n",
        "\n",
        "    print(f\"The probability of having {disease_name} given a positive test result is {posterior_probability:.2%}\")\n",
        "\n",
        "except ValueError as e:\n",
        "    print(f\"Invalid input: {e}\")\n"
      ],
      "metadata": {
        "colab": {
          "base_uri": "https://localhost:8080/"
        },
        "id": "3G0oAYmMCXl2",
        "outputId": "e5f4c4cd-b899-4f46-b1c2-df73c66ac895"
      },
      "execution_count": null,
      "outputs": [
        {
          "output_type": "stream",
          "name": "stdout",
          "text": [
            "Enter the name of the disease: Flu\n",
            "Enter the prior probability of having Flu (as a decimal, e.g., 0.01 for 1%): 0.05\n",
            "Enter the sensitivity of the test for Flu (as a decimal, e.g., 0.90 for 90%): 0.95\n",
            "Enter the false positive rate of the test for Flu (as a decimal, e.g., 0.05 for 5%): .10\n",
            "The probability of having Flu given a positive test result is 33.33%\n"
          ]
        }
      ]
    },
    {
      "cell_type": "markdown",
      "source": [
        "# ***Exp: 6***"
      ],
      "metadata": {
        "id": "lTH2ByozDOHp"
      }
    },
    {
      "cell_type": "code",
      "source": [
        "!pip install pgmpy\n",
        "\n",
        "from pgmpy.models import BayesianNetwork\n",
        "from pgmpy.factors.discrete import TabularCPD\n",
        "from pgmpy.inference import VariableElimination\n",
        "\n",
        "model = BayesianNetwork([('Attendance', 'CourseSuccess'), ('Participation', 'CourseSuccess')])\n",
        "\n",
        "cpd_attendance = TabularCPD(variable='Attendance', variable_card=2, values=[[0.7], [0.3]])\n",
        "\n",
        "cpd_participation = TabularCPD(variable='Participation', variable_card=2, values=[[0.6], [0.4]])\n",
        "\n",
        "cpd_course_success = TabularCPD(variable='CourseSuccess', variable_card=2,\n",
        "                                values=[[0.9, 0.7, 0.6, 0.4],\n",
        "                                        [0.1, 0.3, 0.4, 0.6]],\n",
        "                                evidence=['Attendance', 'Participation'],\n",
        "                                evidence_card=[2, 2])\n",
        "\n",
        "model.add_cpds(cpd_attendance, cpd_participation, cpd_course_success)\n",
        "\n",
        "assert model.check_model()\n",
        "\n",
        "attendance_input = input(\"Enter Attendance level (0 for Good, 1 for Poor): \")\n",
        "participation_input = input(\"Enter Participation level (0 for High, 1 for Low): \")\n",
        "\n",
        "attendance_level = int(attendance_input)\n",
        "participation_level = int(participation_input)\n",
        "\n",
        "inference = VariableElimination(model)\n",
        "\n",
        "query_result = inference.query(variables=['CourseSuccess'],\n",
        "                               evidence={'Attendance': attendance_level, 'Participation': participation_level})\n",
        "\n",
        "print(\"\\nPrediction Results for Course Success:\")\n",
        "print(\"Note: CourseSuccess = 0, CourseFailure = 1\")\n",
        "\n",
        "for i, prob in enumerate(query_result.values):\n",
        "    label = \"CourseSuccess\" if i == 0 else \"CourseFailure\"\n",
        "    print(f\"{label}: {prob * 100:.2f}%\")\n"
      ],
      "metadata": {
        "colab": {
          "base_uri": "https://localhost:8080/"
        },
        "id": "KiBNzceIDRbK",
        "outputId": "b46b00be-85f7-4e90-b47a-058419870098"
      },
      "execution_count": null,
      "outputs": [
        {
          "output_type": "stream",
          "name": "stdout",
          "text": [
            "Collecting pgmpy\n",
            "  Downloading pgmpy-0.1.26-py3-none-any.whl.metadata (9.1 kB)\n",
            "Requirement already satisfied: networkx in /usr/local/lib/python3.10/dist-packages (from pgmpy) (3.4.2)\n",
            "Requirement already satisfied: numpy in /usr/local/lib/python3.10/dist-packages (from pgmpy) (1.26.4)\n",
            "Requirement already satisfied: scipy in /usr/local/lib/python3.10/dist-packages (from pgmpy) (1.13.1)\n",
            "Requirement already satisfied: scikit-learn in /usr/local/lib/python3.10/dist-packages (from pgmpy) (1.5.2)\n",
            "Requirement already satisfied: pandas in /usr/local/lib/python3.10/dist-packages (from pgmpy) (2.2.2)\n",
            "Requirement already satisfied: pyparsing in /usr/local/lib/python3.10/dist-packages (from pgmpy) (3.2.0)\n",
            "Requirement already satisfied: torch in /usr/local/lib/python3.10/dist-packages (from pgmpy) (2.5.0+cu121)\n",
            "Requirement already satisfied: statsmodels in /usr/local/lib/python3.10/dist-packages (from pgmpy) (0.14.4)\n",
            "Requirement already satisfied: tqdm in /usr/local/lib/python3.10/dist-packages (from pgmpy) (4.66.6)\n",
            "Requirement already satisfied: joblib in /usr/local/lib/python3.10/dist-packages (from pgmpy) (1.4.2)\n",
            "Requirement already satisfied: opt-einsum in /usr/local/lib/python3.10/dist-packages (from pgmpy) (3.4.0)\n",
            "Requirement already satisfied: xgboost in /usr/local/lib/python3.10/dist-packages (from pgmpy) (2.1.2)\n",
            "Requirement already satisfied: google-generativeai in /usr/local/lib/python3.10/dist-packages (from pgmpy) (0.8.3)\n",
            "Requirement already satisfied: google-ai-generativelanguage==0.6.10 in /usr/local/lib/python3.10/dist-packages (from google-generativeai->pgmpy) (0.6.10)\n",
            "Requirement already satisfied: google-api-core in /usr/local/lib/python3.10/dist-packages (from google-generativeai->pgmpy) (2.19.2)\n",
            "Requirement already satisfied: google-api-python-client in /usr/local/lib/python3.10/dist-packages (from google-generativeai->pgmpy) (2.151.0)\n",
            "Requirement already satisfied: google-auth>=2.15.0 in /usr/local/lib/python3.10/dist-packages (from google-generativeai->pgmpy) (2.27.0)\n",
            "Requirement already satisfied: protobuf in /usr/local/lib/python3.10/dist-packages (from google-generativeai->pgmpy) (4.25.5)\n",
            "Requirement already satisfied: pydantic in /usr/local/lib/python3.10/dist-packages (from google-generativeai->pgmpy) (2.9.2)\n",
            "Requirement already satisfied: typing-extensions in /usr/local/lib/python3.10/dist-packages (from google-generativeai->pgmpy) (4.12.2)\n",
            "Requirement already satisfied: proto-plus<2.0.0dev,>=1.22.3 in /usr/local/lib/python3.10/dist-packages (from google-ai-generativelanguage==0.6.10->google-generativeai->pgmpy) (1.25.0)\n",
            "Requirement already satisfied: python-dateutil>=2.8.2 in /usr/local/lib/python3.10/dist-packages (from pandas->pgmpy) (2.8.2)\n",
            "Requirement already satisfied: pytz>=2020.1 in /usr/local/lib/python3.10/dist-packages (from pandas->pgmpy) (2024.2)\n",
            "Requirement already satisfied: tzdata>=2022.7 in /usr/local/lib/python3.10/dist-packages (from pandas->pgmpy) (2024.2)\n",
            "Requirement already satisfied: threadpoolctl>=3.1.0 in /usr/local/lib/python3.10/dist-packages (from scikit-learn->pgmpy) (3.5.0)\n",
            "Requirement already satisfied: patsy>=0.5.6 in /usr/local/lib/python3.10/dist-packages (from statsmodels->pgmpy) (0.5.6)\n",
            "Requirement already satisfied: packaging>=21.3 in /usr/local/lib/python3.10/dist-packages (from statsmodels->pgmpy) (24.2)\n",
            "Requirement already satisfied: filelock in /usr/local/lib/python3.10/dist-packages (from torch->pgmpy) (3.16.1)\n",
            "Requirement already satisfied: jinja2 in /usr/local/lib/python3.10/dist-packages (from torch->pgmpy) (3.1.4)\n",
            "Requirement already satisfied: fsspec in /usr/local/lib/python3.10/dist-packages (from torch->pgmpy) (2024.10.0)\n",
            "Requirement already satisfied: sympy==1.13.1 in /usr/local/lib/python3.10/dist-packages (from torch->pgmpy) (1.13.1)\n",
            "Requirement already satisfied: mpmath<1.4,>=1.1.0 in /usr/local/lib/python3.10/dist-packages (from sympy==1.13.1->torch->pgmpy) (1.3.0)\n",
            "Requirement already satisfied: nvidia-nccl-cu12 in /usr/local/lib/python3.10/dist-packages (from xgboost->pgmpy) (2.23.4)\n",
            "Requirement already satisfied: googleapis-common-protos<2.0.dev0,>=1.56.2 in /usr/local/lib/python3.10/dist-packages (from google-api-core->google-generativeai->pgmpy) (1.65.0)\n",
            "Requirement already satisfied: requests<3.0.0.dev0,>=2.18.0 in /usr/local/lib/python3.10/dist-packages (from google-api-core->google-generativeai->pgmpy) (2.32.3)\n",
            "Requirement already satisfied: cachetools<6.0,>=2.0.0 in /usr/local/lib/python3.10/dist-packages (from google-auth>=2.15.0->google-generativeai->pgmpy) (5.5.0)\n",
            "Requirement already satisfied: pyasn1-modules>=0.2.1 in /usr/local/lib/python3.10/dist-packages (from google-auth>=2.15.0->google-generativeai->pgmpy) (0.4.1)\n",
            "Requirement already satisfied: rsa<5,>=3.1.4 in /usr/local/lib/python3.10/dist-packages (from google-auth>=2.15.0->google-generativeai->pgmpy) (4.9)\n",
            "Requirement already satisfied: six in /usr/local/lib/python3.10/dist-packages (from patsy>=0.5.6->statsmodels->pgmpy) (1.16.0)\n",
            "Requirement already satisfied: httplib2<1.dev0,>=0.19.0 in /usr/local/lib/python3.10/dist-packages (from google-api-python-client->google-generativeai->pgmpy) (0.22.0)\n",
            "Requirement already satisfied: google-auth-httplib2<1.0.0,>=0.2.0 in /usr/local/lib/python3.10/dist-packages (from google-api-python-client->google-generativeai->pgmpy) (0.2.0)\n",
            "Requirement already satisfied: uritemplate<5,>=3.0.1 in /usr/local/lib/python3.10/dist-packages (from google-api-python-client->google-generativeai->pgmpy) (4.1.1)\n",
            "Requirement already satisfied: MarkupSafe>=2.0 in /usr/local/lib/python3.10/dist-packages (from jinja2->torch->pgmpy) (3.0.2)\n",
            "Requirement already satisfied: annotated-types>=0.6.0 in /usr/local/lib/python3.10/dist-packages (from pydantic->google-generativeai->pgmpy) (0.7.0)\n",
            "Requirement already satisfied: pydantic-core==2.23.4 in /usr/local/lib/python3.10/dist-packages (from pydantic->google-generativeai->pgmpy) (2.23.4)\n",
            "Requirement already satisfied: grpcio<2.0dev,>=1.33.2 in /usr/local/lib/python3.10/dist-packages (from google-api-core[grpc]!=2.0.*,!=2.1.*,!=2.10.*,!=2.2.*,!=2.3.*,!=2.4.*,!=2.5.*,!=2.6.*,!=2.7.*,!=2.8.*,!=2.9.*,<3.0.0dev,>=1.34.1->google-ai-generativelanguage==0.6.10->google-generativeai->pgmpy) (1.67.1)\n",
            "Requirement already satisfied: grpcio-status<2.0.dev0,>=1.33.2 in /usr/local/lib/python3.10/dist-packages (from google-api-core[grpc]!=2.0.*,!=2.1.*,!=2.10.*,!=2.2.*,!=2.3.*,!=2.4.*,!=2.5.*,!=2.6.*,!=2.7.*,!=2.8.*,!=2.9.*,<3.0.0dev,>=1.34.1->google-ai-generativelanguage==0.6.10->google-generativeai->pgmpy) (1.62.3)\n",
            "Requirement already satisfied: pyasn1<0.7.0,>=0.4.6 in /usr/local/lib/python3.10/dist-packages (from pyasn1-modules>=0.2.1->google-auth>=2.15.0->google-generativeai->pgmpy) (0.6.1)\n",
            "Requirement already satisfied: charset-normalizer<4,>=2 in /usr/local/lib/python3.10/dist-packages (from requests<3.0.0.dev0,>=2.18.0->google-api-core->google-generativeai->pgmpy) (3.4.0)\n",
            "Requirement already satisfied: idna<4,>=2.5 in /usr/local/lib/python3.10/dist-packages (from requests<3.0.0.dev0,>=2.18.0->google-api-core->google-generativeai->pgmpy) (3.10)\n",
            "Requirement already satisfied: urllib3<3,>=1.21.1 in /usr/local/lib/python3.10/dist-packages (from requests<3.0.0.dev0,>=2.18.0->google-api-core->google-generativeai->pgmpy) (2.2.3)\n",
            "Requirement already satisfied: certifi>=2017.4.17 in /usr/local/lib/python3.10/dist-packages (from requests<3.0.0.dev0,>=2.18.0->google-api-core->google-generativeai->pgmpy) (2024.8.30)\n",
            "Downloading pgmpy-0.1.26-py3-none-any.whl (2.0 MB)\n",
            "\u001b[2K   \u001b[90m━━━━━━━━━━━━━━━━━━━━━━━━━━━━━━━━━━━━━━━━\u001b[0m \u001b[32m2.0/2.0 MB\u001b[0m \u001b[31m18.1 MB/s\u001b[0m eta \u001b[36m0:00:00\u001b[0m\n",
            "\u001b[?25hInstalling collected packages: pgmpy\n",
            "Successfully installed pgmpy-0.1.26\n",
            "Enter Attendance level (0 for Good, 1 for Poor): 0\n",
            "Enter Participation level (0 for High, 1 for Low): 1\n",
            "\n",
            "Prediction Results for Course Success:\n",
            "Note: CourseSuccess = 0, CourseFailure = 1\n",
            "CourseSuccess: 70.00%\n",
            "CourseFailure: 30.00%\n"
          ]
        }
      ]
    },
    {
      "cell_type": "markdown",
      "source": [
        "# ***Questions***"
      ],
      "metadata": {
        "id": "RX2a9A74R0-j"
      }
    }
  ]
}